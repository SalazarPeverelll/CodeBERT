{
 "cells": [
  {
   "cell_type": "code",
   "execution_count": 15,
   "metadata": {},
   "outputs": [],
   "source": [
    "import re\n",
    "import numpy as np\n",
    "\n",
    "def remove_docstrings(code):\n",
    "    # 使用正则表达式匹配被 \"\"\" 包括的部分，并替换为空字符串\n",
    "    cleaned_code = re.sub(r'\"\"\".*?\"\"\"', '', code, flags=re.DOTALL)\n",
    "    cleaned_code = re.sub(r\"'''.*?'''\", '', cleaned_code, flags=re.DOTALL)\n",
    "    return cleaned_code\n",
    "\n",
    "def cosine_similarity_matrix(nl_features, code_features):\n",
    "    # 计算每个特征向量的范数\n",
    "    nl_norms = np.linalg.norm(nl_features, axis=1, keepdims=True)\n",
    "    code_norms = np.linalg.norm(code_features, axis=1, keepdims=True)\n",
    "    \n",
    "    # 计算点积\n",
    "    dot_product = np.dot(nl_features, code_features.T)\n",
    "    \n",
    "    # 计算余弦相似度矩阵\n",
    "    cosine_similarity = dot_product / (nl_norms * code_norms.T)\n",
    "    \n",
    "    return cosine_similarity"
   ]
  },
  {
   "cell_type": "code",
   "execution_count": 3,
   "metadata": {},
   "outputs": [],
   "source": [
    "import json\n",
    "with open(\"/home/yiming/cophi/projects/fork/CodeBERT/GraphCodeBERT/codesearch/dataset/python/train.jsonl\", \"r\") as f:\n",
    "    train_dataset = [json.loads(line) for line in f.readlines()]\n"
   ]
  },
  {
   "cell_type": "code",
   "execution_count": 4,
   "metadata": {},
   "outputs": [],
   "source": [
    "import json\n",
    "import os\n",
    "\n",
    "# 文件路径\n",
    "json_file_path = '/home/yiming/cophi/training_dynamic/gcb_tokens_temp/Model/Epoch_1/tokenized_code_tokens_train.json'\n",
    "\n",
    "# 读取JSON文件\n",
    "with open(json_file_path, 'r', encoding='utf-8') as f:\n",
    "    code_tokens_data = json.load(f)\n",
    "\n",
    "# 文件路径\n",
    "json_file_path = '/home/yiming/cophi/training_dynamic/gcb_tokens_temp/Model/Epoch_1/tokenized_comment_tokens_train.json'\n",
    "\n",
    "\n",
    "# 读取JSON文件\n",
    "with open(json_file_path, 'r', encoding='utf-8') as f:\n",
    "    nl_tokens_data = json.load(f)"
   ]
  },
  {
   "cell_type": "code",
   "execution_count": 5,
   "metadata": {},
   "outputs": [],
   "source": [
    "import json\n",
    "input_path = \"/home/yiming/cophi/projects/fork/CodeBERT/GraphCodeBERT/codesearch/sorted_label_human_auto.jsonl\"\n",
    "idx_list = []\n",
    "match_list = []\n",
    "\n",
    "with open(input_path, 'r', encoding='utf-8') as file:\n",
    "    for line in file:\n",
    "        line = line.strip().rstrip(',')  # 去除行末的逗号\n",
    "        json_obj = json.loads(line)\n",
    "        idx_list.append(json_obj['idx'])\n",
    "        match_list.append(json_obj['match'])"
   ]
  },
  {
   "cell_type": "code",
   "execution_count": 7,
   "metadata": {},
   "outputs": [],
   "source": [
    "code_ind = comment_id = comment_ind = 3896\n",
    "# code_ind = 3032"
   ]
  },
  {
   "cell_type": "code",
   "execution_count": 8,
   "metadata": {},
   "outputs": [],
   "source": [
    "code_data = code_tokens_data[code_ind]\n",
    "comment_data = nl_tokens_data[comment_ind]"
   ]
  },
  {
   "cell_type": "code",
   "execution_count": 10,
   "metadata": {},
   "outputs": [],
   "source": [
    "import numpy as np\n",
    "ori_valid_code_attention_output_path = os.path.join(\"/home/yiming/cophi/training_dynamic/features/retri\", 'train_code_attention_retri.npy')\n",
    "ori_valid_nl_attention_output_path = os.path.join(\"/home/yiming/cophi/training_dynamic/features/retri\", 'train_nl_attention_retri.npy')\n",
    "ori_valid_code_attention_feature = np.load(ori_valid_code_attention_output_path)\n",
    "ori_valid_nl_attention_feature = np.load(ori_valid_nl_attention_output_path)"
   ]
  },
  {
   "cell_type": "code",
   "execution_count": 11,
   "metadata": {},
   "outputs": [],
   "source": [
    "# 预设10种高对比度颜色\n",
    "high_contrast_colors = [\n",
    "    \"#FF0000\", \"#00FF00\", \"#0000FF\", \"#FFFF00\", \"#FF00FF\",\n",
    "    \"#00FFFF\", \"#800000\", \"#008000\", \"#000080\", \"#808000\"\n",
    "]"
   ]
  },
  {
   "cell_type": "code",
   "execution_count": 12,
   "metadata": {},
   "outputs": [
    {
     "name": "stdout",
     "output_type": "stream",
     "text": [
      "Indices of 7045 in idx_list: [214]\n",
      "Corresponding values in match_list: [[[[0, 2], [17, 18]]]]\n",
      "Comment indices list: [[0, 1, 2]]\n",
      "Code indices list: [[17, 18]]\n"
     ]
    }
   ],
   "source": [
    "indices = [i for i, value in enumerate(idx_list) if value == comment_id]\n",
    "\n",
    "# 提取match_list中对应索引的值\n",
    "match_values = [match_list[i] for i in indices]\n",
    "\n",
    "# 输出结果\n",
    "print(\"Indices of 7045 in idx_list:\", indices)\n",
    "print(\"Corresponding values in match_list:\", match_values)\n",
    "# 初始化结果列表\n",
    "comment_list = []\n",
    "code_list = []\n",
    "\n",
    "# 遍历 match_values，处理每个 comment 和 code 的区间\n",
    "for match in match_values[0]:  # 假设 match_values 的结构是 [[...]]\n",
    "    comment_intervals, code_intervals = match\n",
    "\n",
    "    # 展开 comment 的所有索引\n",
    "    comment_indices = []\n",
    "    for start, end in zip(comment_intervals[::2], comment_intervals[1::2]):\n",
    "        comment_indices.extend(range(start, end + 1))\n",
    "    comment_list.append(comment_indices)\n",
    "\n",
    "    # 展开 code 的所有索引\n",
    "    code_indices = []\n",
    "    for start, end in zip(code_intervals[::2], code_intervals[1::2]):\n",
    "        code_indices.extend(range(start, end + 1))\n",
    "    code_list.append(code_indices)\n",
    "\n",
    "# 输出结果\n",
    "print(\"Comment indices list:\", comment_list)\n",
    "print(\"Code indices list:\", code_list)\n"
   ]
  },
  {
   "cell_type": "code",
   "execution_count": 13,
   "metadata": {},
   "outputs": [
    {
     "data": {
      "text/html": [
       "<pre><span style=\"font-size: 11.542339563369751px; color: #FF0000;\">Dec</span><span style=\"font-size: 11.781314134597778px; color: #FF0000;\">or</span><span style=\"font-size: 12.782236099243164px; color: #FF0000;\">ator</span><span style=\"color: black;\"> </span><span style=\"font-size: 11.550262689590454px; color: black;\">for</span><span style=\"color: black;\"> </span><span style=\"font-size: 13.84579610824585px; color: black;\">the</span><span style=\"color: black;\"> </span><span style=\"font-size: 16.0px; color: black;\">View</span><span style=\"color: black;\"> </span><span style=\"font-size: 12.56209135055542px; color: black;\">classes</span><span style=\"font-size: 8.209034025669098px; color: black;\">.</span></pre>"
      ],
      "text/plain": [
       "<IPython.core.display.HTML object>"
      ]
     },
     "metadata": {},
     "output_type": "display_data"
    }
   ],
   "source": [
    "import numpy as np\n",
    "from collections import deque\n",
    "from IPython.display import display, HTML\n",
    "\n",
    "array = ori_valid_nl_attention_feature[comment_id][1:]\n",
    "array = array[1:]\n",
    "\n",
    "token_list1 = nl_tokens_data[comment_id][1:]\n",
    "doc_snippet = train_dataset[comment_id][\"docstring\"]\n",
    "normalized_contributions = (array - array.min()) / (array.max() - array.min())\n",
    "\n",
    "# 将 token 与对应的贡献值配对，并去掉 token 中的 \"Ġ\" 符号\n",
    "tokens_with_contributions = deque([(token.replace(\"Ġ\", \"\"), contrib) for token, contrib in zip(token_list1, normalized_contributions)])\n",
    "\n",
    "# 为每个 comment_list 的索引组指定颜色\n",
    "color_map = {}\n",
    "for i, indices in enumerate(comment_list):\n",
    "    color = high_contrast_colors[i % len(high_contrast_colors)]  # 循环使用颜色\n",
    "    for idx in indices:\n",
    "        color_map[idx] = color\n",
    "\n",
    "# 生成HTML带字体大小和颜色调整的输出\n",
    "html_string = \"<pre>\"\n",
    "buffer = \"\"\n",
    "current_index = 0  # 追踪 code_snippet 中字符的索引位置\n",
    "\n",
    "# 遍历原始代码片段的每个字符\n",
    "for char in doc_snippet:\n",
    "    if char == \"\\n\":\n",
    "        # 遇到换行符则添加 <br> 标签并清空缓冲区\n",
    "        html_string += buffer + \"<br>\"\n",
    "        buffer = \"\"\n",
    "    elif tokens_with_contributions:\n",
    "        # 获取当前 token 和其贡献值\n",
    "        token, contrib = tokens_with_contributions[0]\n",
    "        buffer += char\n",
    "\n",
    "        # 逐字符匹配：检查 token 是否与 buffer 逐字符匹配\n",
    "        if buffer == token:\n",
    "            # 将贡献值映射到字体大小范围 [8, 16]\n",
    "            font_size = 8 + (16 - 8) * contrib\n",
    "            color = color_map.get(current_index, \"black\")  # 如果索引有颜色则应用，否则默认为黑色\n",
    "            html_string += f'<span style=\"font-size: {font_size}px; color: {color};\">{buffer}</span>'\n",
    "            buffer = \"\"  # 清空缓冲区\n",
    "            tokens_with_contributions.popleft()  # 移除已匹配的 token\n",
    "            current_index += 1\n",
    "        elif not token.startswith(buffer):\n",
    "            # 如果缓冲区字符序列和当前 token 不匹配，将缓冲区第一个字符添加到 HTML 并继续逐字符匹配\n",
    "            color = color_map.get(current_index, \"black\")\n",
    "            html_string += f'<span style=\"color: {color};\">{buffer[0]}</span>'\n",
    "            buffer = buffer[1:]      \n",
    "        \n",
    "    else:\n",
    "        # 如果没有更多 token 需要匹配，默认输出字符\n",
    "        color = color_map.get(current_index, \"black\")\n",
    "        html_string += f'<span style=\"color: {color};\">{char}</span>'\n",
    "\n",
    "html_string += buffer  # 添加剩余的缓冲区内容\n",
    "html_string += \"</pre>\"\n",
    "\n",
    "# 在Jupyter Notebook中显示带有字体大小和颜色调整的文本\n",
    "display(HTML(html_string))"
   ]
  },
  {
   "cell_type": "code",
   "execution_count": 16,
   "metadata": {},
   "outputs": [
    {
     "data": {
      "text/html": [
       "<pre><span style=\"font-size: 13.683713912963867px; color: black;\">def</span><span style=\"color: black;\"> </span><span style=\"font-size: 16.0px; color: black;\">route</span><span style=\"font-size: 11.296669721603394px; color: black;\">(</span><span style=\"font-size: 10.927257537841797px; color: black;\">obj</span><span style=\"font-size: 11.22548794746399px; color: black;\">,</span><span style=\"color: black;\"> </span><span style=\"font-size: 11.628068923950195px; color: black;\">rule</span><span style=\"font-size: 10.047212362289429px; color: black;\">,</span><span style=\"color: black;\"> </span><span style=\"font-size: 8.158005893230438px; color: black;\">*</span><span style=\"font-size: 8.462639927864075px; color: black;\">args</span><span style=\"font-size: 9.285051941871643px; color: black;\">,</span><span style=\"color: black;\"> </span><span style=\"font-size: 8.311475813388824px; color: black;\">**</span><span style=\"font-size: 8.230661913752556px; color: black;\">k</span><span style=\"font-size: 8.09391487389803px; color: black;\">w</span><span style=\"font-size: 8.17179922759533px; color: black;\">args</span><span style=\"font-size: 11.151004314422607px; color: black;\">)</span><span style=\"font-size: 11.64977502822876px; color: black;\">:</span><br><span style=\"color: black;\"> </span><span style=\"color: black;\"> </span><span style=\"color: black;\"> </span><span style=\"color: black;\"> </span><br><span style=\"color: black;\"> </span><span style=\"color: black;\"> </span><span style=\"color: black;\"> </span><span style=\"color: black;\"> </span><span style=\"font-size: 12.752798557281494px; color: black;\">def</span><span style=\"color: #FF0000;\"> </span><span style=\"font-size: 10.78546404838562px; color: #FF0000;\">decor</span><span style=\"font-size: 10.602819442749023px; color: #FF0000;\">ator</span><span style=\"font-size: 11.486266613006592px; color: black;\">(</span><span style=\"font-size: 9.952581405639648px; color: black;\">cl</span><span style=\"font-size: 9.719274640083313px; color: black;\">s</span><span style=\"font-size: 9.946494102478027px; color: black;\">)</span><span style=\"font-size: 10.342458724975586px; color: black;\">:</span><br><span style=\"color: black;\"> </span><span style=\"color: black;\"> </span><span style=\"color: black;\"> </span><span style=\"color: black;\"> </span><span style=\"color: black;\"> </span><span style=\"color: black;\"> </span><span style=\"color: black;\"> </span><span style=\"color: black;\"> </span><span style=\"font-size: 9.539612054824829px; color: black;\">endpoint</span><span style=\"color: black;\"> </span><span style=\"font-size: 8.67845493555069px; color: black;\">=</span><span style=\"color: black;\"> </span><span style=\"font-size: 8.56388795375824px; color: black;\">k</span><span style=\"font-size: 8.126242071390152px; color: black;\">w</span><span style=\"font-size: 8.491436004638672px; color: black;\">args</span><span style=\"font-size: 8.069145493209362px; color: black;\">.</span><span style=\"font-size: 8.091012313961983px; color: black;\">get</span><span style=\"font-size: 8.2018491178751px; color: black;\">(</span><span style=\"font-size: 8.228787884116173px; color: black;\">'</span><span style=\"font-size: 9.323323845863342px; color: black;\">end</span><span style=\"font-size: 10.185958623886108px; color: black;\">point</span><span style=\"font-size: 8.137903213500977px; color: black;\">'</span><span style=\"font-size: 8.452055990695953px; color: black;\">,</span><span style=\"color: black;\"> </span><span style=\"font-size: 9.817370414733887px; color: black;\">camel</span><span style=\"font-size: 8.020065600052476px; color: black;\">_</span><span style=\"font-size: 8.152593463659286px; color: black;\">to</span><span style=\"font-size: 8.026922140270472px; color: black;\">_</span><span style=\"font-size: 10.10542368888855px; color: black;\">sn</span><span style=\"font-size: 12.1126389503479px; color: black;\">ake</span><span style=\"font-size: 8.472513437271118px; color: black;\">(</span><span style=\"font-size: 9.724337816238403px; color: black;\">cl</span><span style=\"font-size: 9.07076096534729px; color: black;\">s</span><span style=\"font-size: 8.711050927639008px; color: black;\">.</span><span style=\"font-size: 8.543775081634521px; color: black;\">__</span><span style=\"font-size: 9.133958578109741px; color: black;\">name</span><span style=\"font-size: 8.438772052526474px; color: black;\">__</span><span style=\"font-size: 8.08595833927393px; color: black;\">)</span><span style=\"font-size: 8.350948840379715px; color: black;\">)</span><br><span style=\"color: black;\"> </span><span style=\"color: black;\"> </span><span style=\"color: black;\"> </span><span style=\"color: black;\"> </span><span style=\"color: black;\"> </span><span style=\"color: black;\"> </span><span style=\"color: black;\"> </span><span style=\"color: black;\"> </span><span style=\"font-size: 8.205816075205803px; color: black;\">k</span><span style=\"font-size: 8.055087257176638px; color: black;\">w</span><span style=\"font-size: 8.074845664203167px; color: black;\">args</span><span style=\"font-size: 8.06384240835905px; color: black;\">[</span><span style=\"font-size: 8.06982684135437px; color: black;\">'</span><span style=\"font-size: 9.48663330078125px; color: black;\">view</span><span style=\"font-size: 8.087871849536896px; color: black;\">_</span><span style=\"font-size: 9.203991174697876px; color: black;\">func</span><span style=\"font-size: 8.054653260856867px; color: black;\">'</span><span style=\"font-size: 8.331001669168472px; color: black;\">]</span><span style=\"color: black;\"> </span><span style=\"font-size: 9.520304203033447px; color: black;\">=</span><span style=\"color: black;\"> </span><span style=\"font-size: 9.759101390838623px; color: black;\">cl</span><span style=\"font-size: 9.132009506225586px; color: black;\">s</span><span style=\"font-size: 9.692408561706543px; color: black;\">.</span><span style=\"font-size: 9.935046672821045px; color: black;\">as</span><span style=\"font-size: 9.101475596427917px; color: black;\">_</span><span style=\"font-size: 11.69287657737732px; color: black;\">view</span><span style=\"font-size: 9.790855646133423px; color: black;\">(</span><span style=\"font-size: 9.543039321899414px; color: black;\">endpoint</span><span style=\"font-size: 8.44867005944252px; color: black;\">)</span><br><span style=\"color: black;\"> </span><span style=\"color: black;\"> </span><span style=\"color: black;\"> </span><span style=\"color: black;\"> </span><span style=\"color: black;\"> </span><span style=\"color: black;\"> </span><span style=\"color: black;\"> </span><span style=\"color: black;\"> </span><span style=\"font-size: 10.665925741195679px; color: black;\">obj</span><span style=\"font-size: 11.235055923461914px; color: black;\">.</span><span style=\"font-size: 11.761784553527832px; color: black;\">add</span><span style=\"font-size: 10.227957487106323px; color: black;\">_</span><span style=\"font-size: 13.252065181732178px; color: black;\">url</span><span style=\"font-size: 9.518737077713013px; color: black;\">_</span><span style=\"font-size: 11.056864261627197px; color: black;\">rule</span><span style=\"font-size: 10.030744791030884px; color: black;\">(</span><span style=\"font-size: 11.412063121795654px; color: black;\">rule</span><span style=\"font-size: 8.600936651229858px; color: black;\">,</span><span style=\"color: black;\"> </span><span style=\"font-size: 8.02155390754342px; color: black;\">*</span><span style=\"font-size: 8.502694547176361px; color: black;\">args</span><span style=\"font-size: 8.093462713062763px; color: black;\">,</span><span style=\"color: black;\"> </span><span style=\"font-size: 8.015934392809868px; color: black;\">**</span><span style=\"font-size: 8.033605325967073px; color: black;\">k</span><span style=\"font-size: 8.008148874156177px; color: black;\">w</span><span style=\"font-size: 8.015480477362871px; color: black;\">args</span><span style=\"font-size: 8.292655169963837px; color: black;\">)</span><br><span style=\"color: black;\"> </span><span style=\"color: black;\"> </span><span style=\"color: black;\"> </span><span style=\"color: black;\"> </span><span style=\"color: black;\"> </span><span style=\"color: black;\"> </span><span style=\"color: black;\"> </span><span style=\"color: black;\"> </span><span style=\"font-size: 12.356810092926025px; color: black;\">return</span><span style=\"color: black;\"> </span><span style=\"font-size: 10.268005132675171px; color: black;\">cl</span><span style=\"font-size: 10.053913116455078px; color: black;\">s</span><br><span style=\"color: black;\"> </span><span style=\"color: black;\"> </span><span style=\"color: black;\"> </span><span style=\"color: black;\"> </span><span style=\"font-size: 11.355658054351807px; color: black;\">return</span><span style=\"color: black;\"> </span><span style=\"font-size: 9.738546013832092px; color: black;\">decor</span><span style=\"font-size: 9.773404598236084px; color: black;\">ator</span></pre>"
      ],
      "text/plain": [
       "<IPython.core.display.HTML object>"
      ]
     },
     "metadata": {},
     "output_type": "display_data"
    }
   ],
   "source": [
    "# 假设我们有原始代码片段和分词后的 tokens（包含缩进和换行）\n",
    "code_snippet = remove_docstrings(train_dataset[code_ind][\"code\"])\n",
    "token_list2 = code_tokens_data[code_ind][1:]\n",
    "\n",
    "# 假设注意力特征数组 (示例)\n",
    "code_attention_feature = ori_valid_code_attention_feature[code_ind][1:]  # 模拟的注意力分数\n",
    "\n",
    "# 归一化注意力特征\n",
    "code_normalized_contributions = (code_attention_feature - code_attention_feature.min()) / (code_attention_feature.max() - code_attention_feature.min())\n",
    "\n",
    "# 将 token 与对应的贡献值配对，并去掉 token 中的 \"Ġ\" 符号\n",
    "tokens_with_contributions = deque([(token.replace(\"Ġ\", \"\"), contrib) for token, contrib in zip(token_list2, code_normalized_contributions)])\n",
    "\n",
    "# 为每个 code_list 的索引组指定颜色\n",
    "color_map = {}\n",
    "for i, indices in enumerate(code_list):\n",
    "    color = high_contrast_colors[i % len(high_contrast_colors)]  # 循环使用颜色\n",
    "    for idx in indices:\n",
    "        color_map[idx] = color\n",
    "\n",
    "# 生成HTML带字体大小和颜色调整的输出\n",
    "html_string = \"<pre>\"\n",
    "buffer = \"\"\n",
    "current_index = 0  # 追踪 code_snippet 中字符的索引位置\n",
    "\n",
    "# 遍历原始代码片段的每个字符\n",
    "for char in code_snippet:\n",
    "    if char == \"\\n\":\n",
    "        # 遇到换行符则添加 <br> 标签并清空缓冲区\n",
    "        html_string += buffer + \"<br>\"\n",
    "        buffer = \"\"\n",
    "    elif tokens_with_contributions:\n",
    "        # 获取当前 token 和其贡献值\n",
    "        token, contrib = tokens_with_contributions[0]\n",
    "        buffer += char\n",
    "\n",
    "        # 逐字符匹配：检查 token 是否与 buffer 逐字符匹配\n",
    "        if buffer == token:\n",
    "            # 将贡献值映射到字体大小范围 [8, 16]\n",
    "            font_size = 8 + (16 - 8) * contrib\n",
    "            color = color_map.get(current_index, \"black\")  # 如果索引有颜色则应用，否则默认为黑色\n",
    "            html_string += f'<span style=\"font-size: {font_size}px; color: {color};\">{buffer}</span>'\n",
    "            buffer = \"\"  # 清空缓冲区\n",
    "            tokens_with_contributions.popleft()  # 移除已匹配的 token\n",
    "            current_index += 1\n",
    "        elif not token.startswith(buffer):\n",
    "            # 如果缓冲区字符序列和当前 token 不匹配，将缓冲区第一个字符添加到 HTML 并继续逐字符匹配\n",
    "            color = color_map.get(current_index, \"black\")\n",
    "            html_string += f'<span style=\"color: {color};\">{buffer[0]}</span>'\n",
    "            buffer = buffer[1:]      \n",
    "        \n",
    "    else:\n",
    "        # 如果没有更多 token 需要匹配，默认输出字符\n",
    "        color = color_map.get(current_index, \"black\")\n",
    "        html_string += f'<span style=\"color: {color};\">{char}</span>'\n",
    "\n",
    "html_string += buffer  # 添加剩余的缓冲区内容\n",
    "html_string += \"</pre>\"\n",
    "\n",
    "# 在Jupyter Notebook中显示带有字体大小和颜色调整的文本\n",
    "display(HTML(html_string))"
   ]
  }
 ],
 "metadata": {
  "kernelspec": {
   "display_name": "visualizer",
   "language": "python",
   "name": "python3"
  },
  "language_info": {
   "codemirror_mode": {
    "name": "ipython",
    "version": 3
   },
   "file_extension": ".py",
   "mimetype": "text/x-python",
   "name": "python",
   "nbconvert_exporter": "python",
   "pygments_lexer": "ipython3",
   "version": "3.7.16"
  }
 },
 "nbformat": 4,
 "nbformat_minor": 2
}
