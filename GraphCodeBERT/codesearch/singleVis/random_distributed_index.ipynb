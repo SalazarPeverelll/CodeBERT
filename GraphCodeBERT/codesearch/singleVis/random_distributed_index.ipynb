{
 "cells": [
  {
   "cell_type": "code",
   "execution_count": 9,
   "metadata": {},
   "outputs": [],
   "source": [
    "import os\n",
    "import torch\n",
    "\n",
    "training_data_loc = os.path.join(\"/home/yiming/cophi/training_dynamic/cifar_10\", \"Training_data\", \"training_dataset_label.pth\")\n",
    "index_file = os.path.join(\"/home/yiming/cophi/training_dynamic/cifar_10/Model\", \"Epoch_50\", \"index.json\")\n",
    "data = torch.load(training_data_loc)"
   ]
  },
  {
   "cell_type": "code",
   "execution_count": 26,
   "metadata": {},
   "outputs": [
    {
     "name": "stdout",
     "output_type": "stream",
     "text": [
      "按顺序选出的 50 个索引: [564, 799, 870, 1407, 2638, 2701, 2852, 2966, 3197, 3392, 3459, 4550, 4750, 6637, 7341, 7482, 8089, 8692, 10305, 11076, 11190, 12332, 13174, 14593, 14601, 15738, 15791, 15888, 17258, 17446, 19566, 20052, 20394, 20476, 20502, 21450, 22503, 22529, 23536, 24730, 24859, 25500, 25598, 25732, 26059, 26971, 27401, 27450, 27800, 28596, 28657, 28743, 29210, 29647, 29810, 30035, 30327, 31140, 31578, 31975, 32030, 32382, 32513, 33514, 35447, 35586, 35856, 35882, 36539, 37341, 37442, 37824, 38749, 38795, 39213, 39562, 39729, 41178, 41301, 41852, 43298, 43497, 43699, 43950, 44269, 44541, 44714, 44792, 45232, 45311, 45657, 45875, 46050, 46735, 46775, 46786, 47712, 48359, 48537, 49619]\n"
     ]
    }
   ],
   "source": [
    "import random\n",
    "# 初始化类别字典，存储每个类别的索引\n",
    "category_indices = {i: [] for i in range(10)}\n",
    "\n",
    "# 遍历 data，按类别存储索引\n",
    "for idx, label in enumerate(data):\n",
    "    category_indices[label.item()].append(idx)\n",
    "\n",
    "# 确保每个类别都有至少5个样本\n",
    "for category, indices in category_indices.items():\n",
    "    if len(indices) < 1:\n",
    "        raise ValueError(f\"类别 {category} 的样本数不足 5 个\")\n",
    "\n",
    "# 从每个类别中随机挑选 5 个索引\n",
    "selected_indices = []\n",
    "for category, indices in category_indices.items():\n",
    "    selected_indices.extend(random.sample(indices, 10))\n",
    "\n",
    "# 按从小到大的顺序排序\n",
    "sorted_indices = sorted(selected_indices)\n",
    "\n",
    "# 打印或使用这些选出的索引\n",
    "print(\"按顺序选出的 50 个索引:\", sorted_indices)"
   ]
  },
  {
   "cell_type": "code",
   "execution_count": 27,
   "metadata": {},
   "outputs": [
    {
     "name": "stdout",
     "output_type": "stream",
     "text": [
      "索引成功写入到文件 /home/yiming/cophi/training_dynamic/cifar_10/Model/Epoch_50/index.json\n"
     ]
    }
   ],
   "source": [
    "import json\n",
    "# 将 sorted_indices 写入到 JSON 文件\n",
    "with open(index_file, 'w') as f:\n",
    "    json.dump(sorted_indices, f)\n",
    "\n",
    "print(f\"索引成功写入到文件 {index_file}\")"
   ]
  }
 ],
 "metadata": {
  "kernelspec": {
   "display_name": "visualizer",
   "language": "python",
   "name": "python3"
  },
  "language_info": {
   "codemirror_mode": {
    "name": "ipython",
    "version": 3
   },
   "file_extension": ".py",
   "mimetype": "text/x-python",
   "name": "python",
   "nbconvert_exporter": "python",
   "pygments_lexer": "ipython3",
   "version": "3.7.16"
  }
 },
 "nbformat": 4,
 "nbformat_minor": 2
}
